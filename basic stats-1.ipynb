{
 "cells": [
  {
   "cell_type": "code",
   "execution_count": 4,
   "id": "c4bac33a",
   "metadata": {},
   "outputs": [
    {
     "data": {
      "text/html": [
       "<div>\n",
       "<style scoped>\n",
       "    .dataframe tbody tr th:only-of-type {\n",
       "        vertical-align: middle;\n",
       "    }\n",
       "\n",
       "    .dataframe tbody tr th {\n",
       "        vertical-align: top;\n",
       "    }\n",
       "\n",
       "    .dataframe thead th {\n",
       "        text-align: right;\n",
       "    }\n",
       "</style>\n",
       "<table border=\"1\" class=\"dataframe\">\n",
       "  <thead>\n",
       "    <tr style=\"text-align: right;\">\n",
       "      <th></th>\n",
       "      <th>Date</th>\n",
       "      <th>Day</th>\n",
       "      <th>SKU</th>\n",
       "      <th>City</th>\n",
       "      <th>Volume</th>\n",
       "      <th>BU</th>\n",
       "      <th>Brand</th>\n",
       "      <th>Model</th>\n",
       "      <th>Avg Price</th>\n",
       "      <th>Total Sales Value</th>\n",
       "      <th>Discount Rate (%)</th>\n",
       "      <th>Discount Amount</th>\n",
       "      <th>Net Sales Value</th>\n",
       "    </tr>\n",
       "  </thead>\n",
       "  <tbody>\n",
       "    <tr>\n",
       "      <th>0</th>\n",
       "      <td>01-04-2021</td>\n",
       "      <td>Thursday</td>\n",
       "      <td>M01</td>\n",
       "      <td>C</td>\n",
       "      <td>15</td>\n",
       "      <td>Mobiles</td>\n",
       "      <td>RealU</td>\n",
       "      <td>RU-10</td>\n",
       "      <td>12100</td>\n",
       "      <td>181500</td>\n",
       "      <td>11.654820</td>\n",
       "      <td>21153.498820</td>\n",
       "      <td>160346.501180</td>\n",
       "    </tr>\n",
       "    <tr>\n",
       "      <th>1</th>\n",
       "      <td>01-04-2021</td>\n",
       "      <td>Thursday</td>\n",
       "      <td>M02</td>\n",
       "      <td>C</td>\n",
       "      <td>10</td>\n",
       "      <td>Mobiles</td>\n",
       "      <td>RealU</td>\n",
       "      <td>RU-9 Plus</td>\n",
       "      <td>10100</td>\n",
       "      <td>101000</td>\n",
       "      <td>11.560498</td>\n",
       "      <td>11676.102961</td>\n",
       "      <td>89323.897039</td>\n",
       "    </tr>\n",
       "    <tr>\n",
       "      <th>2</th>\n",
       "      <td>01-04-2021</td>\n",
       "      <td>Thursday</td>\n",
       "      <td>M03</td>\n",
       "      <td>C</td>\n",
       "      <td>7</td>\n",
       "      <td>Mobiles</td>\n",
       "      <td>YouM</td>\n",
       "      <td>YM-99</td>\n",
       "      <td>16100</td>\n",
       "      <td>112700</td>\n",
       "      <td>9.456886</td>\n",
       "      <td>10657.910157</td>\n",
       "      <td>102042.089843</td>\n",
       "    </tr>\n",
       "    <tr>\n",
       "      <th>3</th>\n",
       "      <td>01-04-2021</td>\n",
       "      <td>Thursday</td>\n",
       "      <td>M04</td>\n",
       "      <td>C</td>\n",
       "      <td>6</td>\n",
       "      <td>Mobiles</td>\n",
       "      <td>YouM</td>\n",
       "      <td>YM-99 Plus</td>\n",
       "      <td>20100</td>\n",
       "      <td>120600</td>\n",
       "      <td>6.935385</td>\n",
       "      <td>8364.074702</td>\n",
       "      <td>112235.925298</td>\n",
       "    </tr>\n",
       "    <tr>\n",
       "      <th>4</th>\n",
       "      <td>01-04-2021</td>\n",
       "      <td>Thursday</td>\n",
       "      <td>M05</td>\n",
       "      <td>C</td>\n",
       "      <td>3</td>\n",
       "      <td>Mobiles</td>\n",
       "      <td>YouM</td>\n",
       "      <td>YM-98</td>\n",
       "      <td>8100</td>\n",
       "      <td>24300</td>\n",
       "      <td>17.995663</td>\n",
       "      <td>4372.946230</td>\n",
       "      <td>19927.053770</td>\n",
       "    </tr>\n",
       "    <tr>\n",
       "      <th>...</th>\n",
       "      <td>...</td>\n",
       "      <td>...</td>\n",
       "      <td>...</td>\n",
       "      <td>...</td>\n",
       "      <td>...</td>\n",
       "      <td>...</td>\n",
       "      <td>...</td>\n",
       "      <td>...</td>\n",
       "      <td>...</td>\n",
       "      <td>...</td>\n",
       "      <td>...</td>\n",
       "      <td>...</td>\n",
       "      <td>...</td>\n",
       "    </tr>\n",
       "    <tr>\n",
       "      <th>445</th>\n",
       "      <td>15-04-2021</td>\n",
       "      <td>Thursday</td>\n",
       "      <td>L06</td>\n",
       "      <td>C</td>\n",
       "      <td>2</td>\n",
       "      <td>Lifestyle</td>\n",
       "      <td>Jeera</td>\n",
       "      <td>M-Casuals</td>\n",
       "      <td>1300</td>\n",
       "      <td>2600</td>\n",
       "      <td>15.475687</td>\n",
       "      <td>402.367873</td>\n",
       "      <td>2197.632127</td>\n",
       "    </tr>\n",
       "    <tr>\n",
       "      <th>446</th>\n",
       "      <td>15-04-2021</td>\n",
       "      <td>Thursday</td>\n",
       "      <td>L07</td>\n",
       "      <td>C</td>\n",
       "      <td>6</td>\n",
       "      <td>Lifestyle</td>\n",
       "      <td>Viva</td>\n",
       "      <td>W-Western</td>\n",
       "      <td>2600</td>\n",
       "      <td>15600</td>\n",
       "      <td>17.057027</td>\n",
       "      <td>2660.896242</td>\n",
       "      <td>12939.103758</td>\n",
       "    </tr>\n",
       "    <tr>\n",
       "      <th>447</th>\n",
       "      <td>15-04-2021</td>\n",
       "      <td>Thursday</td>\n",
       "      <td>L08</td>\n",
       "      <td>C</td>\n",
       "      <td>2</td>\n",
       "      <td>Lifestyle</td>\n",
       "      <td>Viva</td>\n",
       "      <td>W-Lounge</td>\n",
       "      <td>1600</td>\n",
       "      <td>3200</td>\n",
       "      <td>18.965550</td>\n",
       "      <td>606.897606</td>\n",
       "      <td>2593.102394</td>\n",
       "    </tr>\n",
       "    <tr>\n",
       "      <th>448</th>\n",
       "      <td>15-04-2021</td>\n",
       "      <td>Thursday</td>\n",
       "      <td>L09</td>\n",
       "      <td>C</td>\n",
       "      <td>3</td>\n",
       "      <td>Lifestyle</td>\n",
       "      <td>Jeera</td>\n",
       "      <td>M-Formals</td>\n",
       "      <td>1900</td>\n",
       "      <td>5700</td>\n",
       "      <td>16.793014</td>\n",
       "      <td>957.201826</td>\n",
       "      <td>4742.798174</td>\n",
       "    </tr>\n",
       "    <tr>\n",
       "      <th>449</th>\n",
       "      <td>15-04-2021</td>\n",
       "      <td>Thursday</td>\n",
       "      <td>L10</td>\n",
       "      <td>C</td>\n",
       "      <td>1</td>\n",
       "      <td>Lifestyle</td>\n",
       "      <td>Jeera</td>\n",
       "      <td>M-Shoes</td>\n",
       "      <td>3100</td>\n",
       "      <td>3100</td>\n",
       "      <td>15.333300</td>\n",
       "      <td>475.332295</td>\n",
       "      <td>2624.667705</td>\n",
       "    </tr>\n",
       "  </tbody>\n",
       "</table>\n",
       "<p>450 rows × 13 columns</p>\n",
       "</div>"
      ],
      "text/plain": [
       "           Date       Day  SKU City  Volume         BU  Brand       Model  \\\n",
       "0    01-04-2021  Thursday  M01    C      15    Mobiles  RealU       RU-10   \n",
       "1    01-04-2021  Thursday  M02    C      10    Mobiles  RealU   RU-9 Plus   \n",
       "2    01-04-2021  Thursday  M03    C       7    Mobiles   YouM       YM-99   \n",
       "3    01-04-2021  Thursday  M04    C       6    Mobiles   YouM  YM-99 Plus   \n",
       "4    01-04-2021  Thursday  M05    C       3    Mobiles   YouM      YM-98    \n",
       "..          ...       ...  ...  ...     ...        ...    ...         ...   \n",
       "445  15-04-2021  Thursday  L06    C       2  Lifestyle  Jeera   M-Casuals   \n",
       "446  15-04-2021  Thursday  L07    C       6  Lifestyle   Viva   W-Western   \n",
       "447  15-04-2021  Thursday  L08    C       2  Lifestyle   Viva    W-Lounge   \n",
       "448  15-04-2021  Thursday  L09    C       3  Lifestyle  Jeera   M-Formals   \n",
       "449  15-04-2021  Thursday  L10    C       1  Lifestyle  Jeera     M-Shoes   \n",
       "\n",
       "     Avg Price  Total Sales Value  Discount Rate (%)  Discount Amount  \\\n",
       "0        12100             181500          11.654820     21153.498820   \n",
       "1        10100             101000          11.560498     11676.102961   \n",
       "2        16100             112700           9.456886     10657.910157   \n",
       "3        20100             120600           6.935385      8364.074702   \n",
       "4         8100              24300          17.995663      4372.946230   \n",
       "..         ...                ...                ...              ...   \n",
       "445       1300               2600          15.475687       402.367873   \n",
       "446       2600              15600          17.057027      2660.896242   \n",
       "447       1600               3200          18.965550       606.897606   \n",
       "448       1900               5700          16.793014       957.201826   \n",
       "449       3100               3100          15.333300       475.332295   \n",
       "\n",
       "     Net Sales Value  \n",
       "0      160346.501180  \n",
       "1       89323.897039  \n",
       "2      102042.089843  \n",
       "3      112235.925298  \n",
       "4       19927.053770  \n",
       "..               ...  \n",
       "445      2197.632127  \n",
       "446     12939.103758  \n",
       "447      2593.102394  \n",
       "448      4742.798174  \n",
       "449      2624.667705  \n",
       "\n",
       "[450 rows x 13 columns]"
      ]
     },
     "execution_count": 4,
     "metadata": {},
     "output_type": "execute_result"
    }
   ],
   "source": [
    "#Loading the datasets\n",
    "import pandas as pd\n",
    "import numpy as np\n",
    "df=pd.read_csv(\"sales_data_with_discounts.csv\")\n",
    "df"
   ]
  },
  {
   "cell_type": "code",
   "execution_count": 5,
   "id": "e685d0dd",
   "metadata": {},
   "outputs": [
    {
     "name": "stdout",
     "output_type": "stream",
     "text": [
      "<class 'pandas.core.frame.DataFrame'>\n",
      "RangeIndex: 450 entries, 0 to 449\n",
      "Data columns (total 13 columns):\n",
      " #   Column             Non-Null Count  Dtype  \n",
      "---  ------             --------------  -----  \n",
      " 0   Date               450 non-null    object \n",
      " 1   Day                450 non-null    object \n",
      " 2   SKU                450 non-null    object \n",
      " 3   City               450 non-null    object \n",
      " 4   Volume             450 non-null    int64  \n",
      " 5   BU                 450 non-null    object \n",
      " 6   Brand              450 non-null    object \n",
      " 7   Model              450 non-null    object \n",
      " 8   Avg Price          450 non-null    int64  \n",
      " 9   Total Sales Value  450 non-null    int64  \n",
      " 10  Discount Rate (%)  450 non-null    float64\n",
      " 11  Discount Amount    450 non-null    float64\n",
      " 12  Net Sales Value    450 non-null    float64\n",
      "dtypes: float64(3), int64(3), object(7)\n",
      "memory usage: 45.8+ KB\n"
     ]
    }
   ],
   "source": [
    "df.info()"
   ]
  },
  {
   "cell_type": "code",
   "execution_count": 6,
   "id": "a7a5622a",
   "metadata": {},
   "outputs": [
    {
     "data": {
      "text/plain": [
       "Date                 0\n",
       "Day                  0\n",
       "SKU                  0\n",
       "City                 0\n",
       "Volume               0\n",
       "BU                   0\n",
       "Brand                0\n",
       "Model                0\n",
       "Avg Price            0\n",
       "Total Sales Value    0\n",
       "Discount Rate (%)    0\n",
       "Discount Amount      0\n",
       "Net Sales Value      0\n",
       "dtype: int64"
      ]
     },
     "execution_count": 6,
     "metadata": {},
     "output_type": "execute_result"
    }
   ],
   "source": [
    "df.isnull().sum()"
   ]
  },
  {
   "cell_type": "code",
   "execution_count": 7,
   "id": "04ea3c24",
   "metadata": {},
   "outputs": [
    {
     "name": "stdout",
     "output_type": "stream",
     "text": [
      "The Mean of Volume is: 5.067\n",
      "The Mode of Volume is: 0    3\n",
      "Name: Volume, dtype: int64\n",
      "The Median of Volume is: 4.0\n",
      "The Standard Deviation of Volume is: 4.23\n"
     ]
    }
   ],
   "source": [
    "#The above Dataset contains 6 numerical columns they are Volume,Avg price,Total Sales Value,Discount Rate, Discount Amount,Net Sales Value\n",
    "\"\"\"Central Tendency\"\"\"\n",
    "#Mean-->Average\n",
    "#Median-->Middle value \n",
    "#Mode-->Most repeated value\n",
    "\"\"\"Spread\"\"\"\n",
    "#Standard Deviation-->how much the data is deviated form the center\n",
    "#for the Volume Column\n",
    "print(\"The Mean of Volume is:\",df['Volume'].mean().round(3))\n",
    "print(\"The Mode of Volume is:\",df['Volume'].mode())\n",
    "print(\"The Median of Volume is:\",df['Volume'].median())\n",
    "print(\"The Standard Deviation of Volume is:\",np.round(df['Volume'].std(),2))"
   ]
  },
  {
   "cell_type": "code",
   "execution_count": 9,
   "id": "0fe55378",
   "metadata": {},
   "outputs": [
    {
     "name": "stdout",
     "output_type": "stream",
     "text": [
      "The Mean of Avg Price is: 10453.433\n",
      "The Mode of Avg Price is: 0     400\n",
      "1     450\n",
      "2     500\n",
      "3    1300\n",
      "4    8100\n",
      "Name: Avg Price, dtype: int64\n",
      "The Median of Avg Price is: 1450.0\n",
      "The Standard Deviation of Avg Price is: 18079.9\n"
     ]
    }
   ],
   "source": [
    "#for the Avg Price Column\n",
    "print(\"The Mean of Avg Price is:\",df['Avg Price'].mean().round(3))\n",
    "print(\"The Mode of Avg Price is:\",df['Avg Price'].mode())\n",
    "print(\"The Median of Avg Price is:\",df['Avg Price'].median())\n",
    "print(\"The Standard Deviation of Avg Price is:\",np.round(df['Avg Price'].std(),2))"
   ]
  },
  {
   "cell_type": "code",
   "execution_count": 10,
   "id": "ba4b37e9",
   "metadata": {},
   "outputs": [
    {
     "name": "stdout",
     "output_type": "stream",
     "text": [
      "The Mean of Total Sales Value is: 33812.836\n",
      "The Mode of Total Sales Value is: 0    24300\n",
      "Name: Total Sales Value, dtype: int64\n",
      "The Median of Total Sales Value is: 5700.0\n",
      "The Standard Deviation of Total Sales Value is: 50535.07\n"
     ]
    }
   ],
   "source": [
    "#for the Total Sales Value Column\n",
    "print(\"The Mean of Total Sales Value is:\",df['Total Sales Value'].mean().round(3))\n",
    "print(\"The Mode of Total Sales Value is:\",df['Total Sales Value'].mode())\n",
    "print(\"The Median of Total Sales Value is:\",df['Total Sales Value'].median())\n",
    "print(\"The Standard Deviation of Total Sales Value is:\",np.round(df['Total Sales Value'].std(),2))"
   ]
  },
  {
   "cell_type": "code",
   "execution_count": 11,
   "id": "8a4ded68",
   "metadata": {},
   "outputs": [
    {
     "name": "stdout",
     "output_type": "stream",
     "text": [
      "The Mean of Discount Rate (%) is: 15.155\n",
      "The Mode of Discount Rate (%) is: 0       5.007822\n",
      "1       5.055218\n",
      "2       5.059801\n",
      "3       5.072124\n",
      "4       5.084108\n",
      "         ...    \n",
      "445    19.940610\n",
      "446    19.965340\n",
      "447    19.976879\n",
      "448    19.982257\n",
      "449    19.992407\n",
      "Name: Discount Rate (%), Length: 450, dtype: float64\n",
      "The Median of Discount Rate (%) is: 16.57776564929597\n",
      "The Standard Deviation of Discount Rate (%) is: 4.22\n"
     ]
    }
   ],
   "source": [
    "#for the Discount Rate (%) Column\n",
    "print(\"The Mean of Discount Rate (%) is:\",df['Discount Rate (%)'].mean().round(3))\n",
    "#There Is no mode value so that it returns all the data\n",
    "print(\"The Mode of Discount Rate (%) is:\",df['Discount Rate (%)'].mode())\n",
    "print(\"The Median of Discount Rate (%) is:\",df['Discount Rate (%)'].median())\n",
    "print(\"The Standard Deviation of Discount Rate (%) is:\",np.round(df['Discount Rate (%)'].std(),2))"
   ]
  },
  {
   "cell_type": "code",
   "execution_count": 12,
   "id": "7d3cafff",
   "metadata": {},
   "outputs": [
    {
     "name": "stdout",
     "output_type": "stream",
     "text": [
      "The Mean of Discount Amount is: 3346.499\n",
      "The Mode of Discount Amount is: 0         69.177942\n",
      "1         73.025199\n",
      "2         93.649161\n",
      "3         94.682735\n",
      "4        102.705757\n",
      "           ...     \n",
      "445    17900.983733\n",
      "446    21153.498820\n",
      "447    21496.675367\n",
      "448    25328.224204\n",
      "449    25738.022194\n",
      "Name: Discount Amount, Length: 450, dtype: float64\n",
      "The Median of Discount Amount is: 988.9337332382784\n",
      "The Standard Deviation of Discount Amount is: 4509.9\n"
     ]
    }
   ],
   "source": [
    "#for the Discount Amount Column\n",
    "print(\"The Mean of Discount Amount is:\",df['Discount Amount'].mean().round(3))\n",
    "#There Is no mode value so that it returns all the data\n",
    "print(\"The Mode of Discount Amount is:\",df['Discount Amount'].mode())\n",
    "print(\"The Median of Discount Amount is:\",df['Discount Amount'].median())\n",
    "print(\"The Standard Deviation of Discount Amount is:\",np.round(df['Discount Amount'].std(),2))"
   ]
  },
  {
   "cell_type": "code",
   "execution_count": 13,
   "id": "75391942",
   "metadata": {},
   "outputs": [
    {
     "name": "stdout",
     "output_type": "stream",
     "text": [
      "The Mean of Net Sales Value is: 30466.336\n",
      "The Mode of Net Sales Value is: 0         326.974801\n",
      "1         330.822058\n",
      "2         466.350839\n",
      "3         485.317265\n",
      "4         496.607104\n",
      "           ...      \n",
      "445    162603.186379\n",
      "446    163915.971000\n",
      "447    163967.080070\n",
      "448    166263.161348\n",
      "449    179507.479049\n",
      "Name: Net Sales Value, Length: 450, dtype: float64\n",
      "The Median of Net Sales Value is: 4677.788059301853\n",
      "The Standard Deviation of Net Sales Value is: 46358.66\n"
     ]
    }
   ],
   "source": [
    "#for the Net Sales Value Column\n",
    "print(\"The Mean of Net Sales Value is:\",df['Net Sales Value'].mean().round(3))\n",
    "#There is No Mode so that it returns all the values\n",
    "print(\"The Mode of Net Sales Value is:\",df['Net Sales Value'].mode())\n",
    "print(\"The Median of Net Sales Value is:\",df['Net Sales Value'].median())\n",
    "print(\"The Standard Deviation of Net Sales Value is:\",np.round(df['Net Sales Value'].std(),2))"
   ]
  },
  {
   "cell_type": "code",
   "execution_count": 14,
   "id": "5bd3e770",
   "metadata": {},
   "outputs": [
    {
     "data": {
      "text/plain": [
       "2.73"
      ]
     },
     "execution_count": 14,
     "metadata": {},
     "output_type": "execute_result"
    },
    {
     "data": {
      "image/png": "[encoded data removed]",
      "text/plain": [
       "<Figure size 640x480 with 1 Axes>"
      ]
     },
     "metadata": {},
     "output_type": "display_data"
    }
   ],
   "source": [
    "#histogram is appllied for continous data\n",
    "import matplotlib.pyplot as plt\n",
    "plt.hist(df['Volume'])\n",
    "df['Volume'].skew().round(2)"
   ]
  },
  {
   "cell_type": "code",
   "execution_count": 15,
   "id": "44654a36",
   "metadata": {},
   "outputs": [
    {
     "data": {
      "text/plain": [
       "'Histogram for Volume variable is positively skewed or right-skewed and I have verified it using .skew(),\\nif the output is >0 the histogram plot is positively skewed, <0 --> negatively skewed, =0 --> symmetric\\nAs the skew value for Volume variable is 2.73 i.e >0 it is positively skewed or right-skewed. Therefore the outliers will be present\\non the right side.'"
      ]
     },
     "execution_count": 15,
     "metadata": {},
     "output_type": "execute_result"
    }
   ],
   "source": [
    "\"\"\"Histogram for Volume variable is positively skewed or right-skewed and I have verified it using .skew(),\n",
    "if the output is >0 the histogram plot is positively skewed, <0 --> negatively skewed, =0 --> symmetric\n",
    "As the skew value for Volume variable is 2.73 i.e >0 it is positively skewed or right-skewed. Therefore the outliers will be present\n",
    "on the right side.\"\"\""
   ]
  },
  {
   "cell_type": "code",
   "execution_count": 16,
   "id": "edff3a69",
   "metadata": {},
   "outputs": [
    {
     "data": {
      "text/plain": [
       "1.91"
      ]
     },
     "execution_count": 16,
     "metadata": {},
     "output_type": "execute_result"
    },
    {
     "data": {
      "image/png": "[encoded data removed]",
      "text/plain": [
       "<Figure size 640x480 with 1 Axes>"
      ]
     },
     "metadata": {},
     "output_type": "display_data"
    }
   ],
   "source": [
    "#Histogram for Avg Price\n",
    "import matplotlib.pyplot as plt\n",
    "plt.hist(df['Avg Price'])\n",
    "df['Avg Price'].skew().round(2)"
   ]
  },
  {
   "cell_type": "code",
   "execution_count": 17,
   "id": "ebd2f83e",
   "metadata": {},
   "outputs": [
    {
     "data": {
      "text/plain": [
       "' Here the skewness value is 1.91 i.e,>0 so that it is positively \\nskewed or right skewed and therefore the outliers are present at right side'"
      ]
     },
     "execution_count": 17,
     "metadata": {},
     "output_type": "execute_result"
    }
   ],
   "source": [
    "\"\"\" Here the skewness value is 1.91 i.e,>0 so that it is positively \n",
    "skewed or right skewed and therefore the outliers are present at right side\"\"\""
   ]
  },
  {
   "cell_type": "code",
   "execution_count": 18,
   "id": "b28b8cda",
   "metadata": {},
   "outputs": [
    {
     "data": {
      "text/plain": [
       "1.53"
      ]
     },
     "execution_count": 18,
     "metadata": {},
     "output_type": "execute_result"
    },
    {
     "data": {
      "image/png": "[encoded data removed]",
      "text/plain": [
       "<Figure size 640x480 with 1 Axes>"
      ]
     },
     "metadata": {},
     "output_type": "display_data"
    }
   ],
   "source": [
    "import matplotlib.pyplot as plt\n",
    "plt.hist(df['Total Sales Value'])\n",
    "df['Total Sales Value'].skew().round(2)"
   ]
  },
  {
   "cell_type": "code",
   "execution_count": 19,
   "id": "52d70531",
   "metadata": {},
   "outputs": [
    {
     "data": {
      "text/plain": [
       "' Here the skewness value is 1.53 i.e,>0 so that it is positively \\nskewed or right skewed and therefore the outliers are present at right side'"
      ]
     },
     "execution_count": 19,
     "metadata": {},
     "output_type": "execute_result"
    }
   ],
   "source": [
    "\"\"\" Here the skewness value is 1.53 i.e,>0 so that it is positively \n",
    "skewed or right skewed and therefore the outliers are present at right side\"\"\""
   ]
  },
  {
   "cell_type": "code",
   "execution_count": 20,
   "id": "f2ead3d9",
   "metadata": {},
   "outputs": [
    {
     "data": {
      "text/plain": [
       "-1.06"
      ]
     },
     "execution_count": 20,
     "metadata": {},
     "output_type": "execute_result"
    },
    {
     "data": {
      "image/png": "[encoded data removed]",
      "text/plain": [
       "<Figure size 640x480 with 1 Axes>"
      ]
     },
     "metadata": {},
     "output_type": "display_data"
    }
   ],
   "source": [
    "import matplotlib.pyplot as plt\n",
    "plt.hist(df['Discount Rate (%)'])\n",
    "df['Discount Rate (%)'].skew().round(2)"
   ]
  },
  {
   "cell_type": "code",
   "execution_count": 21,
   "id": "949666ad",
   "metadata": {},
   "outputs": [
    {
     "data": {
      "text/plain": [
       "' Here the skewness value is -1.06 i.e,<0 so that it is negatively \\nskewed or left skewed and therefore the outliers are present at left side'"
      ]
     },
     "execution_count": 21,
     "metadata": {},
     "output_type": "execute_result"
    }
   ],
   "source": [
    "\"\"\" Here the skewness value is -1.06 i.e,<0 so that it is negatively \n",
    "skewed or left skewed and therefore the outliers are present at left side\"\"\""
   ]
  },
  {
   "cell_type": "code",
   "execution_count": 22,
   "id": "0397cc4f",
   "metadata": {},
   "outputs": [
    {
     "data": {
      "text/plain": [
       "1.91"
      ]
     },
     "execution_count": 22,
     "metadata": {},
     "output_type": "execute_result"
    },
    {
     "data": {
      "image/png": "[encoded data removed]",
      "text/plain": [
       "<Figure size 640x480 with 1 Axes>"
      ]
     },
     "metadata": {},
     "output_type": "display_data"
    }
   ],
   "source": [
    "import matplotlib.pyplot as plt\n",
    "plt.hist(df['Discount Amount'])\n",
    "df['Discount Amount'].skew().round(2)"
   ]
  },
  {
   "cell_type": "code",
   "execution_count": 23,
   "id": "84b738ef",
   "metadata": {},
   "outputs": [
    {
     "data": {
      "text/plain": [
       "' Here the skewness value is 1.91 i.e,>0 so that it is positively \\nskewed or right skewed and therefore the outliers are present at right side'"
      ]
     },
     "execution_count": 23,
     "metadata": {},
     "output_type": "execute_result"
    }
   ],
   "source": [
    "\"\"\" Here the skewness value is 1.91 i.e,>0 so that it is positively \n",
    "skewed or right skewed and therefore the outliers are present at right side\"\"\""
   ]
  },
  {
   "cell_type": "code",
   "execution_count": 24,
   "id": "711d2e72",
   "metadata": {},
   "outputs": [
    {
     "data": {
      "text/plain": [
       "1.54"
      ]
     },
     "execution_count": 24,
     "metadata": {},
     "output_type": "execute_result"
    },
    {
     "data": {
      "image/png": "[encoded data removed]",
      "text/plain": [
       "<Figure size 640x480 with 1 Axes>"
      ]
     },
     "metadata": {},
     "output_type": "display_data"
    }
   ],
   "source": [
    "import matplotlib.pyplot as plt\n",
    "plt.hist(df['Net Sales Value'])\n",
    "df['Net Sales Value'].skew().round(2)"
   ]
  },
  {
   "cell_type": "code",
   "execution_count": 25,
   "id": "a9149d9e",
   "metadata": {},
   "outputs": [
    {
     "data": {
      "text/plain": [
       "' Here the skewness value is 1.54 i.e,>0 so that it is positively \\nskewed or right skewed and therefore the outliers are present at right side'"
      ]
     },
     "execution_count": 25,
     "metadata": {},
     "output_type": "execute_result"
    }
   ],
   "source": [
    "\"\"\" Here the skewness value is 1.54 i.e,>0 so that it is positively \n",
    "skewed or right skewed and therefore the outliers are present at right side\"\"\""
   ]
  },
  {
   "cell_type": "code",
   "execution_count": 26,
   "id": "21488e73",
   "metadata": {},
   "outputs": [
    {
     "data": {
      "text/plain": [
       "' The Box Plots are used to identify the outliers or Extreme values present in the data'"
      ]
     },
     "execution_count": 26,
     "metadata": {},
     "output_type": "execute_result"
    }
   ],
   "source": [
    "\"\"\" The Box Plots are used to identify the outliers or Extreme values present in the data\"\"\""
   ]
  },
  {
   "cell_type": "code",
   "execution_count": 27,
   "id": "3255b531",
   "metadata": {},
   "outputs": [
    {
     "data": {
      "text/plain": [
       "<function matplotlib.pyplot.show(close=None, block=None)>"
      ]
     },
     "execution_count": 27,
     "metadata": {},
     "output_type": "execute_result"
    },
    {
     "data": {
      "image/png": "[encoded data removed]",
      "text/plain": [
       "<Figure size 640x480 with 1 Axes>"
      ]
     },
     "metadata": {},
     "output_type": "display_data"
    }
   ],
   "source": [
    "#the box plot for the Volume\n",
    "import matplotlib.pyplot as plt\n",
    "plt.boxplot(df['Volume'],vert=False)\n",
    "plt.show"
   ]
  },
  {
   "cell_type": "code",
   "execution_count": 28,
   "id": "c4b7f691",
   "metadata": {},
   "outputs": [
    {
     "data": {
      "text/plain": [
       "' Here from The Above Box plot we analyze that the outliers are present in the right side '"
      ]
     },
     "execution_count": 28,
     "metadata": {},
     "output_type": "execute_result"
    }
   ],
   "source": [
    "\"\"\" Here from The Above Box plot we analyze that the outliers are present in the right side \"\"\""
   ]
  },
  {
   "cell_type": "code",
   "execution_count": 29,
   "id": "912c2d11",
   "metadata": {},
   "outputs": [
    {
     "data": {
      "text/plain": [
       "<function matplotlib.pyplot.show(close=None, block=None)>"
      ]
     },
     "execution_count": 29,
     "metadata": {},
     "output_type": "execute_result"
    },
    {
     "data": {
      "image/png": "[encoded data removed]",
      "text/plain": [
       "<Figure size 640x480 with 1 Axes>"
      ]
     },
     "metadata": {},
     "output_type": "display_data"
    }
   ],
   "source": [
    "#Box plot for the Avg Price \n",
    "import matplotlib.pyplot as plt\n",
    "plt.boxplot(df['Avg Price'],vert=False)\n",
    "plt.show"
   ]
  },
  {
   "cell_type": "code",
   "execution_count": 30,
   "id": "0a5b2bdc",
   "metadata": {},
   "outputs": [
    {
     "data": {
      "text/plain": [
       "' Here from The Above Box plot we analyze that the outliers are present in the right side '"
      ]
     },
     "execution_count": 30,
     "metadata": {},
     "output_type": "execute_result"
    }
   ],
   "source": [
    "\"\"\" Here from The Above Box plot we analyze that the outliers are present in the right side \"\"\""
   ]
  },
  {
   "cell_type": "code",
   "execution_count": 31,
   "id": "85eb5585",
   "metadata": {},
   "outputs": [
    {
     "data": {
      "text/plain": [
       "<function matplotlib.pyplot.show(close=None, block=None)>"
      ]
     },
     "execution_count": 31,
     "metadata": {},
     "output_type": "execute_result"
    },
    {
     "data": {
      "image/png": "[encoded data removed]",
      "text/plain": [
       "<Figure size 640x480 with 1 Axes>"
      ]
     },
     "metadata": {},
     "output_type": "display_data"
    }
   ],
   "source": [
    "#Box plot for the Total Sales Value\n",
    "import matplotlib.pyplot as plt\n",
    "plt.boxplot(df['Total Sales Value'],vert=False)\n",
    "plt.show"
   ]
  },
  {
   "cell_type": "code",
   "execution_count": 32,
   "id": "64409725",
   "metadata": {},
   "outputs": [
    {
     "data": {
      "text/plain": [
       "' Here from The Above Box plot we analyze that the outliers are present in the right side '"
      ]
     },
     "execution_count": 32,
     "metadata": {},
     "output_type": "execute_result"
    }
   ],
   "source": [
    "\"\"\" Here from The Above Box plot we analyze that the outliers are present in the right side \"\"\""
   ]
  },
  {
   "cell_type": "code",
   "execution_count": 33,
   "id": "cd0e5c14",
   "metadata": {},
   "outputs": [
    {
     "data": {
      "text/plain": [
       "<function matplotlib.pyplot.show(close=None, block=None)>"
      ]
     },
     "execution_count": 33,
     "metadata": {},
     "output_type": "execute_result"
    },
    {
     "data": {
      "image/png": "[encoded data removed]",
      "text/plain": [
       "<Figure size 640x480 with 1 Axes>"
      ]
     },
     "metadata": {},
     "output_type": "display_data"
    }
   ],
   "source": [
    "#Box plot for the Discount Rate (%)\n",
    "import matplotlib.pyplot as plt\n",
    "plt.boxplot(df['Discount Rate (%)'],vert=False)\n",
    "plt.show"
   ]
  },
  {
   "cell_type": "code",
   "execution_count": 34,
   "id": "d28ea6e3",
   "metadata": {},
   "outputs": [
    {
     "data": {
      "text/plain": [
       "' Here from The Above Box plot we analyze that the outliers are present in the left side '"
      ]
     },
     "execution_count": 34,
     "metadata": {},
     "output_type": "execute_result"
    }
   ],
   "source": [
    "\"\"\" Here from The Above Box plot we analyze that the outliers are present in the left side \"\"\""
   ]
  },
  {
   "cell_type": "code",
   "execution_count": 35,
   "id": "9f97db88",
   "metadata": {},
   "outputs": [
    {
     "data": {
      "text/plain": [
       "<function matplotlib.pyplot.show(close=None, block=None)>"
      ]
     },
     "execution_count": 35,
     "metadata": {},
     "output_type": "execute_result"
    },
    {
     "data": {
      "image/png": "[encoded data removed]",
      "text/plain": [
       "<Figure size 640x480 with 1 Axes>"
      ]
     },
     "metadata": {},
     "output_type": "display_data"
    }
   ],
   "source": [
    "#Box plot for the Discount Amount\n",
    "import matplotlib.pyplot as plt\n",
    "plt.boxplot(df['Discount Amount'],vert=False)\n",
    "plt.show"
   ]
  },
  {
   "cell_type": "code",
   "execution_count": 36,
   "id": "22097ff5",
   "metadata": {},
   "outputs": [
    {
     "data": {
      "text/plain": [
       "' Here from The Above Box plot we analyze that the outliers are present in the right side '"
      ]
     },
     "execution_count": 36,
     "metadata": {},
     "output_type": "execute_result"
    }
   ],
   "source": [
    "\"\"\" Here from The Above Box plot we analyze that the outliers are present in the right side \"\"\""
   ]
  },
  {
   "cell_type": "code",
   "execution_count": 37,
   "id": "4a0d042d",
   "metadata": {},
   "outputs": [
    {
     "data": {
      "text/plain": [
       "<function matplotlib.pyplot.show(close=None, block=None)>"
      ]
     },
     "execution_count": 37,
     "metadata": {},
     "output_type": "execute_result"
    },
    {
     "data": {
      "image/png": "[encoded data removed]",
      "text/plain": [
       "<Figure size 640x480 with 1 Axes>"
      ]
     },
     "metadata": {},
     "output_type": "display_data"
    }
   ],
   "source": [
    "#Box plot for the Net Sales Value\n",
    "import matplotlib.pyplot as plt\n",
    "plt.boxplot(df['Net Sales Value'],vert=False)\n",
    "plt.show"
   ]
  },
  {
   "cell_type": "code",
   "execution_count": 38,
   "id": "3d7043ed",
   "metadata": {},
   "outputs": [
    {
     "data": {
      "text/plain": [
       "' Here from The Above Box plot we analyze that the outliers are present in the right side '"
      ]
     },
     "execution_count": 38,
     "metadata": {},
     "output_type": "execute_result"
    }
   ],
   "source": [
    "\"\"\" Here from The Above Box plot we analyze that the outliers are present in the right side \"\"\""
   ]
  },
  {
   "cell_type": "code",
   "execution_count": 39,
   "id": "ca914b3f",
   "metadata": {},
   "outputs": [],
   "source": [
    "#Bar Charts for all categorical variables"
   ]
  },
  {
   "cell_type": "code",
   "execution_count": 40,
   "id": "b44c0537",
   "metadata": {},
   "outputs": [
    {
     "data": {
      "text/html": [
       "<div>\n",
       "<style scoped>\n",
       "    .dataframe tbody tr th:only-of-type {\n",
       "        vertical-align: middle;\n",
       "    }\n",
       "\n",
       "    .dataframe tbody tr th {\n",
       "        vertical-align: top;\n",
       "    }\n",
       "\n",
       "    .dataframe thead th {\n",
       "        text-align: right;\n",
       "    }\n",
       "</style>\n",
       "<table border=\"1\" class=\"dataframe\">\n",
       "  <thead>\n",
       "    <tr style=\"text-align: right;\">\n",
       "      <th></th>\n",
       "      <th>Date</th>\n",
       "      <th>Day</th>\n",
       "      <th>SKU</th>\n",
       "      <th>City</th>\n",
       "      <th>BU</th>\n",
       "      <th>Brand</th>\n",
       "      <th>Model</th>\n",
       "    </tr>\n",
       "  </thead>\n",
       "  <tbody>\n",
       "    <tr>\n",
       "      <th>0</th>\n",
       "      <td>01-04-2021</td>\n",
       "      <td>Thursday</td>\n",
       "      <td>M01</td>\n",
       "      <td>C</td>\n",
       "      <td>Mobiles</td>\n",
       "      <td>RealU</td>\n",
       "      <td>RU-10</td>\n",
       "    </tr>\n",
       "    <tr>\n",
       "      <th>1</th>\n",
       "      <td>01-04-2021</td>\n",
       "      <td>Thursday</td>\n",
       "      <td>M02</td>\n",
       "      <td>C</td>\n",
       "      <td>Mobiles</td>\n",
       "      <td>RealU</td>\n",
       "      <td>RU-9 Plus</td>\n",
       "    </tr>\n",
       "    <tr>\n",
       "      <th>2</th>\n",
       "      <td>01-04-2021</td>\n",
       "      <td>Thursday</td>\n",
       "      <td>M03</td>\n",
       "      <td>C</td>\n",
       "      <td>Mobiles</td>\n",
       "      <td>YouM</td>\n",
       "      <td>YM-99</td>\n",
       "    </tr>\n",
       "    <tr>\n",
       "      <th>3</th>\n",
       "      <td>01-04-2021</td>\n",
       "      <td>Thursday</td>\n",
       "      <td>M04</td>\n",
       "      <td>C</td>\n",
       "      <td>Mobiles</td>\n",
       "      <td>YouM</td>\n",
       "      <td>YM-99 Plus</td>\n",
       "    </tr>\n",
       "    <tr>\n",
       "      <th>4</th>\n",
       "      <td>01-04-2021</td>\n",
       "      <td>Thursday</td>\n",
       "      <td>M05</td>\n",
       "      <td>C</td>\n",
       "      <td>Mobiles</td>\n",
       "      <td>YouM</td>\n",
       "      <td>YM-98</td>\n",
       "    </tr>\n",
       "    <tr>\n",
       "      <th>...</th>\n",
       "      <td>...</td>\n",
       "      <td>...</td>\n",
       "      <td>...</td>\n",
       "      <td>...</td>\n",
       "      <td>...</td>\n",
       "      <td>...</td>\n",
       "      <td>...</td>\n",
       "    </tr>\n",
       "    <tr>\n",
       "      <th>445</th>\n",
       "      <td>15-04-2021</td>\n",
       "      <td>Thursday</td>\n",
       "      <td>L06</td>\n",
       "      <td>C</td>\n",
       "      <td>Lifestyle</td>\n",
       "      <td>Jeera</td>\n",
       "      <td>M-Casuals</td>\n",
       "    </tr>\n",
       "    <tr>\n",
       "      <th>446</th>\n",
       "      <td>15-04-2021</td>\n",
       "      <td>Thursday</td>\n",
       "      <td>L07</td>\n",
       "      <td>C</td>\n",
       "      <td>Lifestyle</td>\n",
       "      <td>Viva</td>\n",
       "      <td>W-Western</td>\n",
       "    </tr>\n",
       "    <tr>\n",
       "      <th>447</th>\n",
       "      <td>15-04-2021</td>\n",
       "      <td>Thursday</td>\n",
       "      <td>L08</td>\n",
       "      <td>C</td>\n",
       "      <td>Lifestyle</td>\n",
       "      <td>Viva</td>\n",
       "      <td>W-Lounge</td>\n",
       "    </tr>\n",
       "    <tr>\n",
       "      <th>448</th>\n",
       "      <td>15-04-2021</td>\n",
       "      <td>Thursday</td>\n",
       "      <td>L09</td>\n",
       "      <td>C</td>\n",
       "      <td>Lifestyle</td>\n",
       "      <td>Jeera</td>\n",
       "      <td>M-Formals</td>\n",
       "    </tr>\n",
       "    <tr>\n",
       "      <th>449</th>\n",
       "      <td>15-04-2021</td>\n",
       "      <td>Thursday</td>\n",
       "      <td>L10</td>\n",
       "      <td>C</td>\n",
       "      <td>Lifestyle</td>\n",
       "      <td>Jeera</td>\n",
       "      <td>M-Shoes</td>\n",
       "    </tr>\n",
       "  </tbody>\n",
       "</table>\n",
       "<p>450 rows × 7 columns</p>\n",
       "</div>"
      ],
      "text/plain": [
       "           Date       Day  SKU City         BU  Brand       Model\n",
       "0    01-04-2021  Thursday  M01    C    Mobiles  RealU       RU-10\n",
       "1    01-04-2021  Thursday  M02    C    Mobiles  RealU   RU-9 Plus\n",
       "2    01-04-2021  Thursday  M03    C    Mobiles   YouM       YM-99\n",
       "3    01-04-2021  Thursday  M04    C    Mobiles   YouM  YM-99 Plus\n",
       "4    01-04-2021  Thursday  M05    C    Mobiles   YouM      YM-98 \n",
       "..          ...       ...  ...  ...        ...    ...         ...\n",
       "445  15-04-2021  Thursday  L06    C  Lifestyle  Jeera   M-Casuals\n",
       "446  15-04-2021  Thursday  L07    C  Lifestyle   Viva   W-Western\n",
       "447  15-04-2021  Thursday  L08    C  Lifestyle   Viva    W-Lounge\n",
       "448  15-04-2021  Thursday  L09    C  Lifestyle  Jeera   M-Formals\n",
       "449  15-04-2021  Thursday  L10    C  Lifestyle  Jeera     M-Shoes\n",
       "\n",
       "[450 rows x 7 columns]"
      ]
     },
     "execution_count": 40,
     "metadata": {},
     "output_type": "execute_result"
    }
   ],
   "source": [
    "#findig the categorical columns\n",
    "categorical = df.select_dtypes(include=['object', 'category'])\n",
    "categorical"
   ]
  },
  {
   "cell_type": "code",
   "execution_count": 41,
   "id": "04f20405",
   "metadata": {},
   "outputs": [
    {
     "data": {
      "text/plain": [
       "01-04-2021    30\n",
       "02-04-2021    30\n",
       "03-04-2021    30\n",
       "04-04-2021    30\n",
       "05-04-2021    30\n",
       "06-04-2021    30\n",
       "07-04-2021    30\n",
       "08-04-2021    30\n",
       "09-04-2021    30\n",
       "10-04-2021    30\n",
       "11-04-2021    30\n",
       "12-04-2021    30\n",
       "13-04-2021    30\n",
       "14-04-2021    30\n",
       "15-04-2021    30\n",
       "Name: Date, dtype: int64"
      ]
     },
     "execution_count": 41,
     "metadata": {},
     "output_type": "execute_result"
    }
   ],
   "source": [
    "df['Date'].value_counts()"
   ]
  },
  {
   "cell_type": "code",
   "execution_count": 42,
   "id": "84635e05",
   "metadata": {},
   "outputs": [
    {
     "data": {
      "text/plain": [
       "Thursday     90\n",
       "Friday       60\n",
       "Saturday     60\n",
       "Sunday       60\n",
       "Monday       60\n",
       "Tuesday      60\n",
       "Wednesday    60\n",
       "Name: Day, dtype: int64"
      ]
     },
     "execution_count": 42,
     "metadata": {},
     "output_type": "execute_result"
    }
   ],
   "source": [
    "df['Day'].value_counts()"
   ]
  },
  {
   "cell_type": "code",
   "execution_count": 43,
   "id": "f202303b",
   "metadata": {},
   "outputs": [
    {
     "data": {
      "text/plain": [
       "M01    15\n",
       "M02    15\n",
       "L09    15\n",
       "L08    15\n",
       "L07    15\n",
       "L06    15\n",
       "L05    15\n",
       "L04    15\n",
       "L03    15\n",
       "L02    15\n",
       "L01    15\n",
       "F10    15\n",
       "F09    15\n",
       "F08    15\n",
       "F07    15\n",
       "F06    15\n",
       "F05    15\n",
       "F04    15\n",
       "F03    15\n",
       "F02    15\n",
       "F01    15\n",
       "M10    15\n",
       "M09    15\n",
       "M08    15\n",
       "M07    15\n",
       "M06    15\n",
       "M05    15\n",
       "M04    15\n",
       "M03    15\n",
       "L10    15\n",
       "Name: SKU, dtype: int64"
      ]
     },
     "execution_count": 43,
     "metadata": {},
     "output_type": "execute_result"
    }
   ],
   "source": [
    "df['SKU'].value_counts()"
   ]
  },
  {
   "cell_type": "code",
   "execution_count": 44,
   "id": "8225bef1",
   "metadata": {},
   "outputs": [
    {
     "data": {
      "text/plain": [
       "C    450\n",
       "Name: City, dtype: int64"
      ]
     },
     "execution_count": 44,
     "metadata": {},
     "output_type": "execute_result"
    }
   ],
   "source": [
    "df['City'].value_counts()"
   ]
  },
  {
   "cell_type": "code",
   "execution_count": 45,
   "id": "d22ec18e",
   "metadata": {},
   "outputs": [
    {
     "data": {
      "text/plain": [
       "Mobiles      150\n",
       "FMCG         150\n",
       "Lifestyle    150\n",
       "Name: BU, dtype: int64"
      ]
     },
     "execution_count": 45,
     "metadata": {},
     "output_type": "execute_result"
    }
   ],
   "source": [
    "df['BU'].value_counts()"
   ]
  },
  {
   "cell_type": "code",
   "execution_count": 46,
   "id": "60bf34eb",
   "metadata": {},
   "outputs": [
    {
     "data": {
      "text/plain": [
       "Jeera      90\n",
       "Gear       60\n",
       "Viva       60\n",
       "RealU      45\n",
       "YouM       45\n",
       "Babaji     45\n",
       "Vedic      45\n",
       "Sumsang    30\n",
       "Orange     30\n",
       "Name: Brand, dtype: int64"
      ]
     },
     "execution_count": 46,
     "metadata": {},
     "output_type": "execute_result"
    }
   ],
   "source": [
    "df['Brand'].value_counts()"
   ]
  },
  {
   "cell_type": "code",
   "execution_count": 47,
   "id": "8274e8ff",
   "metadata": {},
   "outputs": [
    {
     "data": {
      "text/plain": [
       "RU-10             15\n",
       "RU-9 Plus         15\n",
       "M-Formals         15\n",
       "W-Lounge          15\n",
       "W-Western         15\n",
       "M-Casuals         15\n",
       "M-Jeans           15\n",
       "W-Inners          15\n",
       "W-Casuals         15\n",
       "M- Inners         15\n",
       "M- T Shirts       15\n",
       "Gear BB Cream     15\n",
       "Gear Shampoo      15\n",
       "Gear Cream        15\n",
       "Gear Oil          15\n",
       "Vedic Oil         15\n",
       "Babaji Cream      15\n",
       "Babaji Shampoo    15\n",
       "Vedic Shampoo     15\n",
       "Vedic Cream       15\n",
       "Babaji Oil        15\n",
       "O-11              15\n",
       "O-10              15\n",
       "S-21              15\n",
       "S-20              15\n",
       "RU-9              15\n",
       "YM-98             15\n",
       "YM-99 Plus        15\n",
       "YM-99             15\n",
       "M-Shoes           15\n",
       "Name: Model, dtype: int64"
      ]
     },
     "execution_count": 47,
     "metadata": {},
     "output_type": "execute_result"
    }
   ],
   "source": [
    "df['Model'].value_counts()"
   ]
  },
  {
   "cell_type": "code",
   "execution_count": 48,
   "id": "213dc664",
   "metadata": {},
   "outputs": [
    {
     "data": {
      "image/png": "[encoded data removed]",
      "text/plain": [
       "<Figure size 1000x600 with 1 Axes>"
      ]
     },
     "metadata": {},
     "output_type": "display_data"
    },
    {
     "data": {
      "image/png": "[encoded data removed]",
      "text/plain": [
       "<Figure size 1000x600 with 1 Axes>"
      ]
     },
     "metadata": {},
     "output_type": "display_data"
    },
    {
     "data": {
      "image/png": "[encoded data removed]",
      "text/plain": [
       "<Figure size 1000x600 with 1 Axes>"
      ]
     },
     "metadata": {},
     "output_type": "display_data"
    },
    {
     "data": {
      "image/png": "[encoded data removed]",
      "text/plain": [
       "<Figure size 1000x600 with 1 Axes>"
      ]
     },
     "metadata": {},
     "output_type": "display_data"
    },
    {
     "data": {
      "image/png": "[encoded data removed]",
      "text/plain": [
       "<Figure size 1000x600 with 1 Axes>"
      ]
     },
     "metadata": {},
     "output_type": "display_data"
    },
    {
     "data": {
      "image/png": "[encoded data removed]",
      "text/plain": [
       "<Figure size 1000x600 with 1 Axes>"
      ]
     },
     "metadata": {},
     "output_type": "display_data"
    },
    {
     "data": {
      "image/png": "[encoded data removed]",
      "text/plain": [
       "<Figure size 1000x600 with 1 Axes>"
      ]
     },
     "metadata": {},
     "output_type": "display_data"
    }
   ],
   "source": [
    "import seaborn as sns\n",
    "for column in categorical:\n",
    "    plt.figure(figsize=(10,6))\n",
    "    sns.countplot(data=df,x=column,order=df[column].value_counts().index)\n",
    "    plt.title(f'Frequency of categories in {column}')\n",
    "    plt.show()"
   ]
  },
  {
   "cell_type": "code",
   "execution_count": 49,
   "id": "901afba1",
   "metadata": {},
   "outputs": [
    {
     "data": {
      "text/plain": [
       "'STANDARDIZATION\\n    The Process of converting the wholw data in between -3 to +3 and \\n    removing the units from the data is called Standardization.\\n    -->99.7% of data always lies between -3sigma to +3 sigma approximately\\n    -->95.5% of data always lies between -2sigma to +2sigma approximately\\n    -->68% of data always lies between the -1sigma and +1sigma approximately'"
      ]
     },
     "execution_count": 49,
     "metadata": {},
     "output_type": "execute_result"
    }
   ],
   "source": [
    "\"\"\"STANDARDIZATION\n",
    "    The Process of converting the wholw data in between -3 to +3 and \n",
    "    removing the units from the data is called Standardization.\n",
    "    -->99.7% of data always lies between -3sigma to +3 sigma approximately\n",
    "    -->95.5% of data always lies between -2sigma to +2sigma approximately\n",
    "    -->68% of data always lies between the -1sigma and +1sigma approximately\"\"\""
   ]
  },
  {
   "cell_type": "code",
   "execution_count": 50,
   "id": "81f96559",
   "metadata": {},
   "outputs": [
    {
     "name": "stdout",
     "output_type": "stream",
     "text": [
      "Before Standardization:\n",
      "   Volume  Avg Price  Total Sales Value\n",
      "0      15      12100             181500\n",
      "1      10      10100             101000\n",
      "2       7      16100             112700\n",
      "3       6      20100             120600\n",
      "4       3       8100              24300\n",
      "\n",
      "After Standardization:\n",
      "     Volume  Avg Price  Total Sales Value\n",
      "0  2.350029   0.091173           2.925721\n",
      "1  1.167129  -0.019570           1.330995\n",
      "2  0.457388   0.312659           1.562775\n",
      "3  0.220808   0.534146           1.719276\n",
      "4 -0.488932  -0.130313          -0.188452\n"
     ]
    }
   ],
   "source": [
    "from sklearn.preprocessing import StandardScaler\n",
    "\n",
    "# Selecting numerical columns\n",
    "numerical_cols = ['Volume', 'Avg Price', 'Total Sales Value']\n",
    "\n",
    "# Before standardization\n",
    "print(\"Before Standardization:\")\n",
    "print(df[numerical_cols].head())\n",
    "\n",
    "SS = StandardScaler()\n",
    "df[numerical_cols] = SS.fit_transform(df[numerical_cols])\n",
    "\n",
    "# After standardization: Display the standardized data distribution\n",
    "print(\"\\nAfter Standardization:\")\n",
    "print(df[numerical_cols].head())"
   ]
  },
  {
   "cell_type": "code",
   "execution_count": 51,
   "id": "0bf5208a",
   "metadata": {},
   "outputs": [
    {
     "name": "stdout",
     "output_type": "stream",
     "text": [
      "             Volume     Avg Price  Total Sales Value\n",
      "count  4.500000e+02  4.500000e+02       4.500000e+02\n",
      "mean   6.118562e-17  3.157968e-17       1.578984e-17\n",
      "std    1.001113e+00  1.001113e+00       1.001113e+00\n",
      "min   -9.620925e-01 -5.627654e-01      -6.619170e-01\n",
      "25%   -4.889322e-01 -5.530754e-01      -6.163534e-01\n",
      "50%   -2.523521e-01 -4.985344e-01      -5.569226e-01\n",
      "75%    2.208081e-01 -1.957016e-02       3.840648e-01\n",
      "max    6.135311e+00  2.749009e+00       3.220894e+00\n"
     ]
    }
   ],
   "source": [
    "print(df[numerical_cols].describe())"
   ]
  },
  {
   "cell_type": "code",
   "execution_count": 53,
   "id": "d5f5688d",
   "metadata": {},
   "outputs": [
    {
     "data": {
      "text/html": [
       "<div>\n",
       "<style scoped>\n",
       "    .dataframe tbody tr th:only-of-type {\n",
       "        vertical-align: middle;\n",
       "    }\n",
       "\n",
       "    .dataframe tbody tr th {\n",
       "        vertical-align: top;\n",
       "    }\n",
       "\n",
       "    .dataframe thead th {\n",
       "        text-align: right;\n",
       "    }\n",
       "</style>\n",
       "<table border=\"1\" class=\"dataframe\">\n",
       "  <thead>\n",
       "    <tr style=\"text-align: right;\">\n",
       "      <th></th>\n",
       "      <th>Date_01-04-2021</th>\n",
       "      <th>Date_02-04-2021</th>\n",
       "      <th>Date_03-04-2021</th>\n",
       "      <th>Date_04-04-2021</th>\n",
       "      <th>Date_05-04-2021</th>\n",
       "      <th>Date_06-04-2021</th>\n",
       "      <th>Date_07-04-2021</th>\n",
       "      <th>Date_08-04-2021</th>\n",
       "      <th>Date_09-04-2021</th>\n",
       "      <th>Date_10-04-2021</th>\n",
       "      <th>...</th>\n",
       "      <th>Model_Vedic Cream</th>\n",
       "      <th>Model_Vedic Oil</th>\n",
       "      <th>Model_Vedic Shampoo</th>\n",
       "      <th>Model_W-Casuals</th>\n",
       "      <th>Model_W-Inners</th>\n",
       "      <th>Model_W-Lounge</th>\n",
       "      <th>Model_W-Western</th>\n",
       "      <th>Model_YM-98</th>\n",
       "      <th>Model_YM-99</th>\n",
       "      <th>Model_YM-99 Plus</th>\n",
       "    </tr>\n",
       "  </thead>\n",
       "  <tbody>\n",
       "    <tr>\n",
       "      <th>0</th>\n",
       "      <td>1</td>\n",
       "      <td>0</td>\n",
       "      <td>0</td>\n",
       "      <td>0</td>\n",
       "      <td>0</td>\n",
       "      <td>0</td>\n",
       "      <td>0</td>\n",
       "      <td>0</td>\n",
       "      <td>0</td>\n",
       "      <td>0</td>\n",
       "      <td>...</td>\n",
       "      <td>0</td>\n",
       "      <td>0</td>\n",
       "      <td>0</td>\n",
       "      <td>0</td>\n",
       "      <td>0</td>\n",
       "      <td>0</td>\n",
       "      <td>0</td>\n",
       "      <td>0</td>\n",
       "      <td>0</td>\n",
       "      <td>0</td>\n",
       "    </tr>\n",
       "    <tr>\n",
       "      <th>1</th>\n",
       "      <td>1</td>\n",
       "      <td>0</td>\n",
       "      <td>0</td>\n",
       "      <td>0</td>\n",
       "      <td>0</td>\n",
       "      <td>0</td>\n",
       "      <td>0</td>\n",
       "      <td>0</td>\n",
       "      <td>0</td>\n",
       "      <td>0</td>\n",
       "      <td>...</td>\n",
       "      <td>0</td>\n",
       "      <td>0</td>\n",
       "      <td>0</td>\n",
       "      <td>0</td>\n",
       "      <td>0</td>\n",
       "      <td>0</td>\n",
       "      <td>0</td>\n",
       "      <td>0</td>\n",
       "      <td>0</td>\n",
       "      <td>0</td>\n",
       "    </tr>\n",
       "    <tr>\n",
       "      <th>2</th>\n",
       "      <td>1</td>\n",
       "      <td>0</td>\n",
       "      <td>0</td>\n",
       "      <td>0</td>\n",
       "      <td>0</td>\n",
       "      <td>0</td>\n",
       "      <td>0</td>\n",
       "      <td>0</td>\n",
       "      <td>0</td>\n",
       "      <td>0</td>\n",
       "      <td>...</td>\n",
       "      <td>0</td>\n",
       "      <td>0</td>\n",
       "      <td>0</td>\n",
       "      <td>0</td>\n",
       "      <td>0</td>\n",
       "      <td>0</td>\n",
       "      <td>0</td>\n",
       "      <td>0</td>\n",
       "      <td>1</td>\n",
       "      <td>0</td>\n",
       "    </tr>\n",
       "    <tr>\n",
       "      <th>3</th>\n",
       "      <td>1</td>\n",
       "      <td>0</td>\n",
       "      <td>0</td>\n",
       "      <td>0</td>\n",
       "      <td>0</td>\n",
       "      <td>0</td>\n",
       "      <td>0</td>\n",
       "      <td>0</td>\n",
       "      <td>0</td>\n",
       "      <td>0</td>\n",
       "      <td>...</td>\n",
       "      <td>0</td>\n",
       "      <td>0</td>\n",
       "      <td>0</td>\n",
       "      <td>0</td>\n",
       "      <td>0</td>\n",
       "      <td>0</td>\n",
       "      <td>0</td>\n",
       "      <td>0</td>\n",
       "      <td>0</td>\n",
       "      <td>1</td>\n",
       "    </tr>\n",
       "    <tr>\n",
       "      <th>4</th>\n",
       "      <td>1</td>\n",
       "      <td>0</td>\n",
       "      <td>0</td>\n",
       "      <td>0</td>\n",
       "      <td>0</td>\n",
       "      <td>0</td>\n",
       "      <td>0</td>\n",
       "      <td>0</td>\n",
       "      <td>0</td>\n",
       "      <td>0</td>\n",
       "      <td>...</td>\n",
       "      <td>0</td>\n",
       "      <td>0</td>\n",
       "      <td>0</td>\n",
       "      <td>0</td>\n",
       "      <td>0</td>\n",
       "      <td>0</td>\n",
       "      <td>0</td>\n",
       "      <td>1</td>\n",
       "      <td>0</td>\n",
       "      <td>0</td>\n",
       "    </tr>\n",
       "    <tr>\n",
       "      <th>...</th>\n",
       "      <td>...</td>\n",
       "      <td>...</td>\n",
       "      <td>...</td>\n",
       "      <td>...</td>\n",
       "      <td>...</td>\n",
       "      <td>...</td>\n",
       "      <td>...</td>\n",
       "      <td>...</td>\n",
       "      <td>...</td>\n",
       "      <td>...</td>\n",
       "      <td>...</td>\n",
       "      <td>...</td>\n",
       "      <td>...</td>\n",
       "      <td>...</td>\n",
       "      <td>...</td>\n",
       "      <td>...</td>\n",
       "      <td>...</td>\n",
       "      <td>...</td>\n",
       "      <td>...</td>\n",
       "      <td>...</td>\n",
       "      <td>...</td>\n",
       "    </tr>\n",
       "    <tr>\n",
       "      <th>445</th>\n",
       "      <td>0</td>\n",
       "      <td>0</td>\n",
       "      <td>0</td>\n",
       "      <td>0</td>\n",
       "      <td>0</td>\n",
       "      <td>0</td>\n",
       "      <td>0</td>\n",
       "      <td>0</td>\n",
       "      <td>0</td>\n",
       "      <td>0</td>\n",
       "      <td>...</td>\n",
       "      <td>0</td>\n",
       "      <td>0</td>\n",
       "      <td>0</td>\n",
       "      <td>0</td>\n",
       "      <td>0</td>\n",
       "      <td>0</td>\n",
       "      <td>0</td>\n",
       "      <td>0</td>\n",
       "      <td>0</td>\n",
       "      <td>0</td>\n",
       "    </tr>\n",
       "    <tr>\n",
       "      <th>446</th>\n",
       "      <td>0</td>\n",
       "      <td>0</td>\n",
       "      <td>0</td>\n",
       "      <td>0</td>\n",
       "      <td>0</td>\n",
       "      <td>0</td>\n",
       "      <td>0</td>\n",
       "      <td>0</td>\n",
       "      <td>0</td>\n",
       "      <td>0</td>\n",
       "      <td>...</td>\n",
       "      <td>0</td>\n",
       "      <td>0</td>\n",
       "      <td>0</td>\n",
       "      <td>0</td>\n",
       "      <td>0</td>\n",
       "      <td>0</td>\n",
       "      <td>1</td>\n",
       "      <td>0</td>\n",
       "      <td>0</td>\n",
       "      <td>0</td>\n",
       "    </tr>\n",
       "    <tr>\n",
       "      <th>447</th>\n",
       "      <td>0</td>\n",
       "      <td>0</td>\n",
       "      <td>0</td>\n",
       "      <td>0</td>\n",
       "      <td>0</td>\n",
       "      <td>0</td>\n",
       "      <td>0</td>\n",
       "      <td>0</td>\n",
       "      <td>0</td>\n",
       "      <td>0</td>\n",
       "      <td>...</td>\n",
       "      <td>0</td>\n",
       "      <td>0</td>\n",
       "      <td>0</td>\n",
       "      <td>0</td>\n",
       "      <td>0</td>\n",
       "      <td>1</td>\n",
       "      <td>0</td>\n",
       "      <td>0</td>\n",
       "      <td>0</td>\n",
       "      <td>0</td>\n",
       "    </tr>\n",
       "    <tr>\n",
       "      <th>448</th>\n",
       "      <td>0</td>\n",
       "      <td>0</td>\n",
       "      <td>0</td>\n",
       "      <td>0</td>\n",
       "      <td>0</td>\n",
       "      <td>0</td>\n",
       "      <td>0</td>\n",
       "      <td>0</td>\n",
       "      <td>0</td>\n",
       "      <td>0</td>\n",
       "      <td>...</td>\n",
       "      <td>0</td>\n",
       "      <td>0</td>\n",
       "      <td>0</td>\n",
       "      <td>0</td>\n",
       "      <td>0</td>\n",
       "      <td>0</td>\n",
       "      <td>0</td>\n",
       "      <td>0</td>\n",
       "      <td>0</td>\n",
       "      <td>0</td>\n",
       "    </tr>\n",
       "    <tr>\n",
       "      <th>449</th>\n",
       "      <td>0</td>\n",
       "      <td>0</td>\n",
       "      <td>0</td>\n",
       "      <td>0</td>\n",
       "      <td>0</td>\n",
       "      <td>0</td>\n",
       "      <td>0</td>\n",
       "      <td>0</td>\n",
       "      <td>0</td>\n",
       "      <td>0</td>\n",
       "      <td>...</td>\n",
       "      <td>0</td>\n",
       "      <td>0</td>\n",
       "      <td>0</td>\n",
       "      <td>0</td>\n",
       "      <td>0</td>\n",
       "      <td>0</td>\n",
       "      <td>0</td>\n",
       "      <td>0</td>\n",
       "      <td>0</td>\n",
       "      <td>0</td>\n",
       "    </tr>\n",
       "  </tbody>\n",
       "</table>\n",
       "<p>450 rows × 95 columns</p>\n",
       "</div>"
      ],
      "text/plain": [
       "     Date_01-04-2021  Date_02-04-2021  Date_03-04-2021  Date_04-04-2021  \\\n",
       "0                  1                0                0                0   \n",
       "1                  1                0                0                0   \n",
       "2                  1                0                0                0   \n",
       "3                  1                0                0                0   \n",
       "4                  1                0                0                0   \n",
       "..               ...              ...              ...              ...   \n",
       "445                0                0                0                0   \n",
       "446                0                0                0                0   \n",
       "447                0                0                0                0   \n",
       "448                0                0                0                0   \n",
       "449                0                0                0                0   \n",
       "\n",
       "     Date_05-04-2021  Date_06-04-2021  Date_07-04-2021  Date_08-04-2021  \\\n",
       "0                  0                0                0                0   \n",
       "1                  0                0                0                0   \n",
       "2                  0                0                0                0   \n",
       "3                  0                0                0                0   \n",
       "4                  0                0                0                0   \n",
       "..               ...              ...              ...              ...   \n",
       "445                0                0                0                0   \n",
       "446                0                0                0                0   \n",
       "447                0                0                0                0   \n",
       "448                0                0                0                0   \n",
       "449                0                0                0                0   \n",
       "\n",
       "     Date_09-04-2021  Date_10-04-2021  ...  Model_Vedic Cream  \\\n",
       "0                  0                0  ...                  0   \n",
       "1                  0                0  ...                  0   \n",
       "2                  0                0  ...                  0   \n",
       "3                  0                0  ...                  0   \n",
       "4                  0                0  ...                  0   \n",
       "..               ...              ...  ...                ...   \n",
       "445                0                0  ...                  0   \n",
       "446                0                0  ...                  0   \n",
       "447                0                0  ...                  0   \n",
       "448                0                0  ...                  0   \n",
       "449                0                0  ...                  0   \n",
       "\n",
       "     Model_Vedic Oil  Model_Vedic Shampoo  Model_W-Casuals  Model_W-Inners  \\\n",
       "0                  0                    0                0               0   \n",
       "1                  0                    0                0               0   \n",
       "2                  0                    0                0               0   \n",
       "3                  0                    0                0               0   \n",
       "4                  0                    0                0               0   \n",
       "..               ...                  ...              ...             ...   \n",
       "445                0                    0                0               0   \n",
       "446                0                    0                0               0   \n",
       "447                0                    0                0               0   \n",
       "448                0                    0                0               0   \n",
       "449                0                    0                0               0   \n",
       "\n",
       "     Model_W-Lounge  Model_W-Western  Model_YM-98   Model_YM-99  \\\n",
       "0                 0                0             0            0   \n",
       "1                 0                0             0            0   \n",
       "2                 0                0             0            1   \n",
       "3                 0                0             0            0   \n",
       "4                 0                0             1            0   \n",
       "..              ...              ...           ...          ...   \n",
       "445               0                0             0            0   \n",
       "446               0                1             0            0   \n",
       "447               1                0             0            0   \n",
       "448               0                0             0            0   \n",
       "449               0                0             0            0   \n",
       "\n",
       "     Model_YM-99 Plus  \n",
       "0                   0  \n",
       "1                   0  \n",
       "2                   0  \n",
       "3                   1  \n",
       "4                   0  \n",
       "..                ...  \n",
       "445                 0  \n",
       "446                 0  \n",
       "447                 0  \n",
       "448                 0  \n",
       "449                 0  \n",
       "\n",
       "[450 rows x 95 columns]"
      ]
     },
     "execution_count": 53,
     "metadata": {},
     "output_type": "execute_result"
    }
   ],
   "source": [
    "#Data transformation\n",
    "#one hot encoding\n",
    "from sklearn.preprocessing import OneHotEncoder\n",
    "OHE=OneHotEncoder()\n",
    "df_cat=OHE.fit_transform(categorical)\n",
    "df_int=df_cat.toarray().astype(int)\n",
    "df_encoded=pd.DataFrame(df_int,columns=OHE.get_feature_names_out())\n",
    "df_encoded\n"
   ]
  },
  {
   "cell_type": "code",
   "execution_count": null,
   "id": "b1cfdf07",
   "metadata": {},
   "outputs": [],
   "source": []
  }
 ],
 "metadata": {
  "kernelspec": {
   "display_name": "Python 3 (ipykernel)",
   "language": "python",
   "name": "python3"
  },
  "language_info": {
   "codemirror_mode": {
    "name": "ipython",
    "version": 3
   },
   "file_extension": ".py",
   "mimetype": "text/x-python",
   "name": "python",
   "nbconvert_exporter": "python",
   "pygments_lexer": "ipython3",
   "version": "3.10.9"
  }
 },
 "nbformat": 4,
 "nbformat_minor": 5
}
