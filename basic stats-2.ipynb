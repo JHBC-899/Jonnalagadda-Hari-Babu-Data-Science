{
 "cells": [
  {
   "cell_type": "code",
   "execution_count": 32,
   "id": "7d3325c8",
   "metadata": {},
   "outputs": [
    {
     "data": {
      "text/plain": [
       "array([1.13, 1.55, 1.43, 0.92, 1.25, 1.36, 1.32, 0.85, 1.07, 1.48, 1.2 ,\n",
       "       1.33, 1.18, 1.22, 1.29])"
      ]
     },
     "execution_count": 32,
     "metadata": {},
     "output_type": "execute_result"
    }
   ],
   "source": [
    "#creating an array of given sample data\n",
    "import numpy as np\n",
    "data=np.array([1.13, 1.55, 1.43, 0.92, 1.25, 1.36, 1.32, 0.85, 1.07, 1.48, 1.20, 1.33, 1.18, 1.22, 1.29])\n",
    "data\n"
   ]
  },
  {
   "cell_type": "code",
   "execution_count": 33,
   "id": "b4e3c65d",
   "metadata": {},
   "outputs": [
    {
     "data": {
      "text/plain": [
       "15"
      ]
     },
     "execution_count": 33,
     "metadata": {},
     "output_type": "execute_result"
    }
   ],
   "source": [
    "# Sample size\n",
    "n = len(data)\n",
    "n"
   ]
  },
  {
   "cell_type": "code",
   "execution_count": 48,
   "id": "b8ab1483",
   "metadata": {},
   "outputs": [
    {
     "name": "stdout",
     "output_type": "stream",
     "text": [
      "Sample mean: 1.24\n"
     ]
    }
   ],
   "source": [
    "# calculating the Sample mean\n",
    "sample_mean = np.mean(data)\n",
    "sample_mean\n",
    "print(\"Sample mean:\",np.round(sample_mean,2))"
   ]
  },
  {
   "cell_type": "code",
   "execution_count": 50,
   "id": "be6f112c",
   "metadata": {},
   "outputs": [
    {
     "name": "stdout",
     "output_type": "stream",
     "text": [
      "Sample standard deviation: 0.19\n"
     ]
    }
   ],
   "source": [
    "# calculating the Sample standard deviation\n",
    "# ddof=1 for sample standard deviation\n",
    "sample_std = np.std(data, ddof=1)  \n",
    "print(\"Sample standard deviation:\",np.round(sample_std,2))"
   ]
  },
  {
   "cell_type": "code",
   "execution_count": 36,
   "id": "abe0ea56",
   "metadata": {},
   "outputs": [
    {
     "data": {
      "text/plain": [
       "0.2"
      ]
     },
     "execution_count": 36,
     "metadata": {},
     "output_type": "execute_result"
    }
   ],
   "source": [
    "# Known population standard deviation\n",
    "population_std = 0.2\n",
    "population_std"
   ]
  },
  {
   "cell_type": "code",
   "execution_count": 40,
   "id": "a21cd2a8",
   "metadata": {},
   "outputs": [
    {
     "data": {
      "text/plain": [
       "2.98"
      ]
     },
     "execution_count": 40,
     "metadata": {},
     "output_type": "execute_result"
    }
   ],
   "source": [
    "# Calculate the t-value for 99% confidence interval with n-1 degrees of freedom\n",
    "# 99% CI, hence 0.995 for the upper tail\n",
    "import numpy as np\n",
    "t_value = stats.t.ppf(0.995, df=n-1) \n",
    "np.round(t_value,2)"
   ]
  },
  {
   "cell_type": "code",
   "execution_count": 41,
   "id": "46873bba",
   "metadata": {},
   "outputs": [],
   "source": [
    "# Calculate the margin of error for the sample standard deviation\n",
    "margin_error_sample = t_value * (sample_std / np.sqrt(n))"
   ]
  },
  {
   "cell_type": "code",
   "execution_count": 55,
   "id": "39147236",
   "metadata": {},
   "outputs": [
    {
     "name": "stdout",
     "output_type": "stream",
     "text": [
      "99% Confidence Interval (using sample standard deviation): 1.09 to 1.39\n"
     ]
    }
   ],
   "source": [
    "# Confidence interval using sample standard deviation\n",
    "ci_sample = (sample_mean - margin_error_sample, sample_mean + margin_error_sample)\n",
    "\n",
    "print(\"99% Confidence Interval (using sample standard deviation):\",np.round(ci_sample[0],2),\"to\",np.round(ci_sample[1],2))"
   ]
  },
  {
   "cell_type": "code",
   "execution_count": 43,
   "id": "9c5747a3",
   "metadata": {},
   "outputs": [],
   "source": [
    "# Calculate the z-value for 99% confidence interval\n",
    "# 99% CI, hence 0.995 for the upper tail\n",
    "z_value = stats.norm.ppf(0.995)  # 99% CI, hence 0.995 for the upper tail\n"
   ]
  },
  {
   "cell_type": "code",
   "execution_count": 44,
   "id": "65148a74",
   "metadata": {},
   "outputs": [],
   "source": [
    "# Calculate the margin of error for the known population standard deviation\n",
    "margin_error_population = z_value * (population_std / np.sqrt(n))"
   ]
  },
  {
   "cell_type": "code",
   "execution_count": 57,
   "id": "7d5458ea",
   "metadata": {},
   "outputs": [
    {
     "name": "stdout",
     "output_type": "stream",
     "text": [
      "99% Confidence Interval (using known population standard deviation): 1.11 to 1.37\n"
     ]
    }
   ],
   "source": [
    "# Confidence interval using known population standard deviation\n",
    "ci_population = (sample_mean - margin_error_population, sample_mean + margin_error_population)\n",
    "print(\"99% Confidence Interval (using known population standard deviation):\",np.round(ci_population[0],2),\"to\",np.round(ci_population[1],2))"
   ]
  }
 ],
 "metadata": {
  "kernelspec": {
   "display_name": "Python 3 (ipykernel)",
   "language": "python",
   "name": "python3"
  },
  "language_info": {
   "codemirror_mode": {
    "name": "ipython",
    "version": 3
   },
   "file_extension": ".py",
   "mimetype": "text/x-python",
   "name": "python",
   "nbconvert_exporter": "python",
   "pygments_lexer": "ipython3",
   "version": "3.10.9"
  }
 },
 "nbformat": 4,
 "nbformat_minor": 5
}
